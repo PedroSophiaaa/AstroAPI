{
 "cells": [
  {
   "cell_type": "markdown",
   "id": "e4f80c38-43d7-4d97-8532-7ea14260ce3f",
   "metadata": {},
   "source": [
    "### Projeto final de aprendizado de máquinas.\n",
    "\n",
    "Foi proposto a nós a produção de um algoritmo capaz de prever algo, seja um fenômeno natural, apostas ou estatísticas. Ou seja, a partir de uma quantidade indefinida de dados, ser capaz de filtrar, analisar, interpretar e transpor graficamente, de modo a prever algo, como dito anteriormente, com precisão.\n",
    "\n",
    "Com isso, o grupo pensou em elaborar um algoritmo capaz de fazer uma análise posicional em qualquer logintude dentro de uma faixa de longitude específica do globo terrestre, no caso, foi escolhida a faixa de 20°.\n",
    "\n",
    "Sabendo disso, primeiro foi feita uma coleta dos dados, de modo a selecionar aqueles que mais se adequassem à realização da previsão do tempo. Então, é feita a preparação dos dados, que consiste no mensuramento, caracterização e filtragem dos dados de modo a uma melhor compreensão da base de dados para que se possa desenvolver um melhor trabalho. Feito isso, faz-se uma análise preparatória dos dados, fazendo algumas análises quantitativas, como a média, por exemplo, seguida de uma discussão para concluir se os dados escolhidos foram o que era esperado; por fim, computa-se a matriz de covariância e é feito o histograma dos dados. \n",
    "\n",
    "Assim, nessa primeira etapa é feita uma seleção de dados, de modo a escolher aqueles que mais virão a satisfazer o objetivo previamente estabelecido, para que, então, seja possível trabalhar com a I.A. para prever a temperatura."
   ]
  },
  {
   "cell_type": "code",
   "execution_count": null,
   "id": "e37e8566-e7e5-4469-9545-0b36f63925b2",
   "metadata": {},
   "outputs": [],
   "source": []
  }
 ],
 "metadata": {
  "kernelspec": {
   "display_name": "Python 3 (ipykernel)",
   "language": "python",
   "name": "python3"
  },
  "language_info": {
   "codemirror_mode": {
    "name": "ipython",
    "version": 3
   },
   "file_extension": ".py",
   "mimetype": "text/x-python",
   "name": "python",
   "nbconvert_exporter": "python",
   "pygments_lexer": "ipython3",
   "version": "3.9.7"
  }
 },
 "nbformat": 4,
 "nbformat_minor": 5
}
