{
 "cells": [
  {
   "cell_type": "markdown",
   "id": "3e49c87a-dca4-42d5-8c99-ccb085ad6c41",
   "metadata": {},
   "source": [
    "## Imports"
   ]
  },
  {
   "cell_type": "code",
   "execution_count": 52,
   "id": "e772df94-11d1-4d1f-8da2-9b2a28942165",
   "metadata": {},
   "outputs": [],
   "source": [
    "import pandas as pd\n",
    "from pandas.api.types import is_numeric_dtype\n",
    "\n",
    "# Importando o módulo do PCA\n",
    "from sklearn.decomposition import PCA\n",
    "# Importando numpy\n",
    "import numpy as np\n",
    "\n",
    "# Importando Matplotlib para plots\n",
    "import matplotlib.pyplot as plt\n",
    "\n",
    "# Importando a separação entre dados de treino e teste\n",
    "from sklearn.model_selection import train_test_split\n",
    "\n",
    "# Importando o Regressor Linear, RMSE e o Regressor de Random Forest\n",
    "from sklearn.linear_model import LinearRegression\n",
    "from sklearn.metrics import mean_squared_error\n",
    "from sklearn.ensemble import RandomForestRegressor\n",
    "\n",
    "# Definindo a seed para calculos aleatorios\n",
    "subset_seed = 97404"
   ]
  },
  {
   "cell_type": "markdown",
   "id": "365e5c70-791c-4535-b170-aba5e5123685",
   "metadata": {
    "jp-MarkdownHeadingCollapsed": true,
    "tags": []
   },
   "source": [
    "## Funções"
   ]
  },
  {
   "cell_type": "code",
   "execution_count": 14,
   "id": "72dc542f-bafe-48d7-8003-443ebb49859f",
   "metadata": {},
   "outputs": [],
   "source": [
    "# Remove todos os dados não numericos do DataFrame\n",
    "def remove_not_numbers(df):\n",
    "    df_c = df.copy()\n",
    "    for i in df_c.columns:\n",
    "        if is_numeric_dtype(df_c[i]) == False or str(df_c[i].dtype) == 'boolean':\n",
    "            df_c = df_c.drop([i], axis=1)\n",
    "        else:\n",
    "            continue\n",
    "    return df_c"
   ]
  },
  {
   "cell_type": "code",
   "execution_count": 33,
   "id": "0c801fed-fd47-4b95-8506-3115abc84d40",
   "metadata": {},
   "outputs": [],
   "source": [
    "# Plot da variância explicada pelo número de componentes\n",
    "def plot_components(x, y):\n",
    "    PCAs = []\n",
    "    n_components = [i for i in range(9)]\n",
    "    \n",
    "    for n in n_components:\n",
    "        # Calculo do PCA com n_components componentes\n",
    "        pca = PCA(n_components=n)\n",
    "        # Ajuste do PCA\n",
    "        pca.fit(x)\n",
    "        # Realização da transformação PCA\n",
    "        x_pca = pca.transform(x)\n",
    "        PCAs.append(np.sum(pca.explained_variance_ratio_))\n",
    "    \n",
    "    fig, ax = plt.subplots()\n",
    "    ax.plot(n_components, PCAs)"
   ]
  },
  {
   "cell_type": "markdown",
   "id": "e81210fd-a4c5-4075-8bf9-d87f9fde67da",
   "metadata": {
    "jp-MarkdownHeadingCollapsed": true,
    "tags": []
   },
   "source": [
    "## Lendo o DataFrame e removendo dados não numericos"
   ]
  },
  {
   "cell_type": "code",
   "execution_count": 15,
   "id": "a89358b0-0eba-4d16-8d39-9862720d6b1d",
   "metadata": {},
   "outputs": [
    {
     "data": {
      "text/html": [
       "<div>\n",
       "<style scoped>\n",
       "    .dataframe tbody tr th:only-of-type {\n",
       "        vertical-align: middle;\n",
       "    }\n",
       "\n",
       "    .dataframe tbody tr th {\n",
       "        vertical-align: top;\n",
       "    }\n",
       "\n",
       "    .dataframe thead th {\n",
       "        text-align: right;\n",
       "    }\n",
       "</style>\n",
       "<table border=\"1\" class=\"dataframe\">\n",
       "  <thead>\n",
       "    <tr style=\"text-align: right;\">\n",
       "      <th></th>\n",
       "      <th>latitude</th>\n",
       "      <th>wind_speed</th>\n",
       "      <th>wind_degree</th>\n",
       "      <th>pressure</th>\n",
       "      <th>precip</th>\n",
       "      <th>humidity</th>\n",
       "      <th>cloudcover</th>\n",
       "      <th>uv_index</th>\n",
       "      <th>visibility</th>\n",
       "      <th>temperature</th>\n",
       "      <th>feelslike</th>\n",
       "    </tr>\n",
       "  </thead>\n",
       "  <tbody>\n",
       "    <tr>\n",
       "      <th>7</th>\n",
       "      <td>84.94</td>\n",
       "      <td>14</td>\n",
       "      <td>163</td>\n",
       "      <td>1022</td>\n",
       "      <td>0.0</td>\n",
       "      <td>80</td>\n",
       "      <td>5</td>\n",
       "      <td>1</td>\n",
       "      <td>10</td>\n",
       "      <td>0</td>\n",
       "      <td>-4</td>\n",
       "    </tr>\n",
       "    <tr>\n",
       "      <th>8</th>\n",
       "      <td>84.22</td>\n",
       "      <td>14</td>\n",
       "      <td>163</td>\n",
       "      <td>1022</td>\n",
       "      <td>0.0</td>\n",
       "      <td>80</td>\n",
       "      <td>5</td>\n",
       "      <td>1</td>\n",
       "      <td>10</td>\n",
       "      <td>0</td>\n",
       "      <td>-4</td>\n",
       "    </tr>\n",
       "    <tr>\n",
       "      <th>9</th>\n",
       "      <td>83.49</td>\n",
       "      <td>14</td>\n",
       "      <td>163</td>\n",
       "      <td>1022</td>\n",
       "      <td>0.0</td>\n",
       "      <td>80</td>\n",
       "      <td>5</td>\n",
       "      <td>1</td>\n",
       "      <td>10</td>\n",
       "      <td>0</td>\n",
       "      <td>-4</td>\n",
       "    </tr>\n",
       "    <tr>\n",
       "      <th>10</th>\n",
       "      <td>82.77</td>\n",
       "      <td>14</td>\n",
       "      <td>163</td>\n",
       "      <td>1022</td>\n",
       "      <td>0.0</td>\n",
       "      <td>80</td>\n",
       "      <td>5</td>\n",
       "      <td>1</td>\n",
       "      <td>10</td>\n",
       "      <td>0</td>\n",
       "      <td>-4</td>\n",
       "    </tr>\n",
       "    <tr>\n",
       "      <th>11</th>\n",
       "      <td>82.05</td>\n",
       "      <td>28</td>\n",
       "      <td>109</td>\n",
       "      <td>1013</td>\n",
       "      <td>0.0</td>\n",
       "      <td>80</td>\n",
       "      <td>37</td>\n",
       "      <td>1</td>\n",
       "      <td>10</td>\n",
       "      <td>5</td>\n",
       "      <td>1</td>\n",
       "    </tr>\n",
       "    <tr>\n",
       "      <th>...</th>\n",
       "      <td>...</td>\n",
       "      <td>...</td>\n",
       "      <td>...</td>\n",
       "      <td>...</td>\n",
       "      <td>...</td>\n",
       "      <td>...</td>\n",
       "      <td>...</td>\n",
       "      <td>...</td>\n",
       "      <td>...</td>\n",
       "      <td>...</td>\n",
       "      <td>...</td>\n",
       "    </tr>\n",
       "    <tr>\n",
       "      <th>224</th>\n",
       "      <td>-71.9</td>\n",
       "      <td>30</td>\n",
       "      <td>121</td>\n",
       "      <td>1002</td>\n",
       "      <td>0.0</td>\n",
       "      <td>60</td>\n",
       "      <td>46</td>\n",
       "      <td>1</td>\n",
       "      <td>10</td>\n",
       "      <td>-23</td>\n",
       "      <td>-36</td>\n",
       "    </tr>\n",
       "    <tr>\n",
       "      <th>225</th>\n",
       "      <td>-72.6</td>\n",
       "      <td>30</td>\n",
       "      <td>121</td>\n",
       "      <td>1002</td>\n",
       "      <td>0.0</td>\n",
       "      <td>60</td>\n",
       "      <td>46</td>\n",
       "      <td>1</td>\n",
       "      <td>10</td>\n",
       "      <td>-23</td>\n",
       "      <td>-36</td>\n",
       "    </tr>\n",
       "    <tr>\n",
       "      <th>226</th>\n",
       "      <td>-73.3</td>\n",
       "      <td>30</td>\n",
       "      <td>121</td>\n",
       "      <td>1002</td>\n",
       "      <td>0.0</td>\n",
       "      <td>60</td>\n",
       "      <td>46</td>\n",
       "      <td>1</td>\n",
       "      <td>10</td>\n",
       "      <td>-23</td>\n",
       "      <td>-36</td>\n",
       "    </tr>\n",
       "    <tr>\n",
       "      <th>227</th>\n",
       "      <td>-74.1</td>\n",
       "      <td>30</td>\n",
       "      <td>121</td>\n",
       "      <td>1002</td>\n",
       "      <td>0.0</td>\n",
       "      <td>60</td>\n",
       "      <td>46</td>\n",
       "      <td>1</td>\n",
       "      <td>10</td>\n",
       "      <td>-23</td>\n",
       "      <td>-36</td>\n",
       "    </tr>\n",
       "    <tr>\n",
       "      <th>228</th>\n",
       "      <td>-74.8</td>\n",
       "      <td>30</td>\n",
       "      <td>121</td>\n",
       "      <td>1002</td>\n",
       "      <td>0.0</td>\n",
       "      <td>60</td>\n",
       "      <td>46</td>\n",
       "      <td>1</td>\n",
       "      <td>10</td>\n",
       "      <td>-23</td>\n",
       "      <td>-36</td>\n",
       "    </tr>\n",
       "  </tbody>\n",
       "</table>\n",
       "<p>182 rows × 11 columns</p>\n",
       "</div>"
      ],
      "text/plain": [
       "     latitude  wind_speed  wind_degree  pressure  precip  humidity  \\\n",
       "7       84.94          14          163      1022     0.0        80   \n",
       "8       84.22          14          163      1022     0.0        80   \n",
       "9       83.49          14          163      1022     0.0        80   \n",
       "10      82.77          14          163      1022     0.0        80   \n",
       "11      82.05          28          109      1013     0.0        80   \n",
       "..        ...         ...          ...       ...     ...       ...   \n",
       "224     -71.9          30          121      1002     0.0        60   \n",
       "225     -72.6          30          121      1002     0.0        60   \n",
       "226     -73.3          30          121      1002     0.0        60   \n",
       "227     -74.1          30          121      1002     0.0        60   \n",
       "228     -74.8          30          121      1002     0.0        60   \n",
       "\n",
       "     cloudcover  uv_index  visibility  temperature  feelslike  \n",
       "7             5         1          10            0         -4  \n",
       "8             5         1          10            0         -4  \n",
       "9             5         1          10            0         -4  \n",
       "10            5         1          10            0         -4  \n",
       "11           37         1          10            5          1  \n",
       "..          ...       ...         ...          ...        ...  \n",
       "224          46         1          10          -23        -36  \n",
       "225          46         1          10          -23        -36  \n",
       "226          46         1          10          -23        -36  \n",
       "227          46         1          10          -23        -36  \n",
       "228          46         1          10          -23        -36  \n",
       "\n",
       "[182 rows x 11 columns]"
      ]
     },
     "execution_count": 15,
     "metadata": {},
     "output_type": "execute_result"
    }
   ],
   "source": [
    "# Lendo o DataFrame\n",
    "df = pd.read_csv('Final Data.csv', index_col='Unnamed: 0')\n",
    "\n",
    "# Convertendo os tipos dos dados para melhor utilização\n",
    "df = df.convert_dtypes()\n",
    "\n",
    "# Removendo dados não numericos\n",
    "df = remove_not_numbers(df)\n",
    "\n",
    "# Mostrando o DataFrame\n",
    "df"
   ]
  },
  {
   "cell_type": "markdown",
   "id": "f2f22dd3-5a1e-4df6-9fec-6763169eb56b",
   "metadata": {
    "jp-MarkdownHeadingCollapsed": true,
    "tags": []
   },
   "source": [
    "## Normalizando o DataFrame e separando as Features"
   ]
  },
  {
   "cell_type": "code",
   "execution_count": 17,
   "id": "414ba2cd-9a07-4ccf-ba77-bdad51bb3b1c",
   "metadata": {},
   "outputs": [
    {
     "data": {
      "text/plain": [
       "array([[1.        , 0.21276596, 0.45378151, ..., 0.05      , 0.        ,\n",
       "        1.        ],\n",
       "       [0.99549268, 0.21276596, 0.45378151, ..., 0.05      , 0.        ,\n",
       "        1.        ],\n",
       "       [0.99092275, 0.21276596, 0.45378151, ..., 0.05      , 0.        ,\n",
       "        1.        ],\n",
       "       ...,\n",
       "       [0.00939026, 0.55319149, 0.33613445, ..., 0.46      , 0.        ,\n",
       "        1.        ],\n",
       "       [0.00438212, 0.55319149, 0.33613445, ..., 0.46      , 0.        ,\n",
       "        1.        ],\n",
       "       [0.        , 0.55319149, 0.33613445, ..., 0.46      , 0.        ,\n",
       "        1.        ]])"
      ]
     },
     "execution_count": 17,
     "metadata": {},
     "output_type": "execute_result"
    }
   ],
   "source": [
    "from sklearn.preprocessing import MinMaxScaler\n",
    "\n",
    "# Definindo colunas que serão utilizadas como features\n",
    "features = [\"latitude\", \"wind_speed\", \"wind_degree\", \"pressure\", \"humidity\", \"cloudcover\", \"uv_index\", \"visibility\"]\n",
    "\n",
    "# Definindo o Normalizador\n",
    "scaler = MinMaxScaler()\n",
    "\n",
    "# Normalizando o DataFrame utilizando apenas as features\n",
    "norm = scaler.fit_transform(df[features].values)\n",
    "\n",
    "# Mostrando o DataFrame Normalizado\n",
    "norm"
   ]
  },
  {
   "cell_type": "markdown",
   "id": "959c508a-a953-4db2-a34c-c6a76ce3a8dd",
   "metadata": {
    "jp-MarkdownHeadingCollapsed": true,
    "tags": []
   },
   "source": [
    "## Criação de um DataFrame próprio dos dados normalizados"
   ]
  },
  {
   "cell_type": "code",
   "execution_count": 18,
   "id": "fb76b6af-9804-4506-bffb-d13a617e01b9",
   "metadata": {},
   "outputs": [
    {
     "data": {
      "text/html": [
       "<div>\n",
       "<style scoped>\n",
       "    .dataframe tbody tr th:only-of-type {\n",
       "        vertical-align: middle;\n",
       "    }\n",
       "\n",
       "    .dataframe tbody tr th {\n",
       "        vertical-align: top;\n",
       "    }\n",
       "\n",
       "    .dataframe thead th {\n",
       "        text-align: right;\n",
       "    }\n",
       "</style>\n",
       "<table border=\"1\" class=\"dataframe\">\n",
       "  <thead>\n",
       "    <tr style=\"text-align: right;\">\n",
       "      <th></th>\n",
       "      <th>latitude</th>\n",
       "      <th>wind_speed</th>\n",
       "      <th>wind_degree</th>\n",
       "      <th>pressure</th>\n",
       "      <th>humidity</th>\n",
       "      <th>cloudcover</th>\n",
       "      <th>uv_index</th>\n",
       "      <th>visibility</th>\n",
       "      <th>temperature</th>\n",
       "    </tr>\n",
       "  </thead>\n",
       "  <tbody>\n",
       "    <tr>\n",
       "      <th>0</th>\n",
       "      <td>1.000000</td>\n",
       "      <td>0.212766</td>\n",
       "      <td>0.453782</td>\n",
       "      <td>1.00</td>\n",
       "      <td>0.782609</td>\n",
       "      <td>0.05</td>\n",
       "      <td>0.0</td>\n",
       "      <td>1.0</td>\n",
       "      <td>0</td>\n",
       "    </tr>\n",
       "    <tr>\n",
       "      <th>1</th>\n",
       "      <td>0.995493</td>\n",
       "      <td>0.212766</td>\n",
       "      <td>0.453782</td>\n",
       "      <td>1.00</td>\n",
       "      <td>0.782609</td>\n",
       "      <td>0.05</td>\n",
       "      <td>0.0</td>\n",
       "      <td>1.0</td>\n",
       "      <td>0</td>\n",
       "    </tr>\n",
       "    <tr>\n",
       "      <th>2</th>\n",
       "      <td>0.990923</td>\n",
       "      <td>0.212766</td>\n",
       "      <td>0.453782</td>\n",
       "      <td>1.00</td>\n",
       "      <td>0.782609</td>\n",
       "      <td>0.05</td>\n",
       "      <td>0.0</td>\n",
       "      <td>1.0</td>\n",
       "      <td>0</td>\n",
       "    </tr>\n",
       "    <tr>\n",
       "      <th>3</th>\n",
       "      <td>0.986415</td>\n",
       "      <td>0.212766</td>\n",
       "      <td>0.453782</td>\n",
       "      <td>1.00</td>\n",
       "      <td>0.782609</td>\n",
       "      <td>0.05</td>\n",
       "      <td>0.0</td>\n",
       "      <td>1.0</td>\n",
       "      <td>0</td>\n",
       "    </tr>\n",
       "    <tr>\n",
       "      <th>4</th>\n",
       "      <td>0.981908</td>\n",
       "      <td>0.510638</td>\n",
       "      <td>0.302521</td>\n",
       "      <td>0.55</td>\n",
       "      <td>0.782609</td>\n",
       "      <td>0.37</td>\n",
       "      <td>0.0</td>\n",
       "      <td>1.0</td>\n",
       "      <td>5</td>\n",
       "    </tr>\n",
       "    <tr>\n",
       "      <th>5</th>\n",
       "      <td>0.977401</td>\n",
       "      <td>0.510638</td>\n",
       "      <td>0.302521</td>\n",
       "      <td>0.55</td>\n",
       "      <td>0.782609</td>\n",
       "      <td>0.37</td>\n",
       "      <td>0.0</td>\n",
       "      <td>1.0</td>\n",
       "      <td>5</td>\n",
       "    </tr>\n",
       "    <tr>\n",
       "      <th>6</th>\n",
       "      <td>0.972831</td>\n",
       "      <td>0.510638</td>\n",
       "      <td>0.302521</td>\n",
       "      <td>0.55</td>\n",
       "      <td>0.782609</td>\n",
       "      <td>0.37</td>\n",
       "      <td>0.0</td>\n",
       "      <td>1.0</td>\n",
       "      <td>5</td>\n",
       "    </tr>\n",
       "    <tr>\n",
       "      <th>7</th>\n",
       "      <td>0.968324</td>\n",
       "      <td>0.510638</td>\n",
       "      <td>0.302521</td>\n",
       "      <td>0.55</td>\n",
       "      <td>0.782609</td>\n",
       "      <td>0.37</td>\n",
       "      <td>0.0</td>\n",
       "      <td>1.0</td>\n",
       "      <td>5</td>\n",
       "    </tr>\n",
       "    <tr>\n",
       "      <th>8</th>\n",
       "      <td>0.963816</td>\n",
       "      <td>0.404255</td>\n",
       "      <td>0.165266</td>\n",
       "      <td>0.45</td>\n",
       "      <td>0.858696</td>\n",
       "      <td>0.93</td>\n",
       "      <td>0.0</td>\n",
       "      <td>1.0</td>\n",
       "      <td>4</td>\n",
       "    </tr>\n",
       "    <tr>\n",
       "      <th>9</th>\n",
       "      <td>0.959246</td>\n",
       "      <td>0.404255</td>\n",
       "      <td>0.165266</td>\n",
       "      <td>0.45</td>\n",
       "      <td>0.858696</td>\n",
       "      <td>0.93</td>\n",
       "      <td>0.0</td>\n",
       "      <td>1.0</td>\n",
       "      <td>4</td>\n",
       "    </tr>\n",
       "  </tbody>\n",
       "</table>\n",
       "</div>"
      ],
      "text/plain": [
       "   latitude  wind_speed  wind_degree  pressure  humidity  cloudcover  \\\n",
       "0  1.000000    0.212766     0.453782      1.00  0.782609        0.05   \n",
       "1  0.995493    0.212766     0.453782      1.00  0.782609        0.05   \n",
       "2  0.990923    0.212766     0.453782      1.00  0.782609        0.05   \n",
       "3  0.986415    0.212766     0.453782      1.00  0.782609        0.05   \n",
       "4  0.981908    0.510638     0.302521      0.55  0.782609        0.37   \n",
       "5  0.977401    0.510638     0.302521      0.55  0.782609        0.37   \n",
       "6  0.972831    0.510638     0.302521      0.55  0.782609        0.37   \n",
       "7  0.968324    0.510638     0.302521      0.55  0.782609        0.37   \n",
       "8  0.963816    0.404255     0.165266      0.45  0.858696        0.93   \n",
       "9  0.959246    0.404255     0.165266      0.45  0.858696        0.93   \n",
       "\n",
       "   uv_index  visibility  temperature  \n",
       "0       0.0         1.0            0  \n",
       "1       0.0         1.0            0  \n",
       "2       0.0         1.0            0  \n",
       "3       0.0         1.0            0  \n",
       "4       0.0         1.0            5  \n",
       "5       0.0         1.0            5  \n",
       "6       0.0         1.0            5  \n",
       "7       0.0         1.0            5  \n",
       "8       0.0         1.0            4  \n",
       "9       0.0         1.0            4  "
      ]
     },
     "execution_count": 18,
     "metadata": {},
     "output_type": "execute_result"
    }
   ],
   "source": [
    "# Criando o DataFrame a partir de um numpy array\n",
    "df_norm = pd.DataFrame(norm, columns=features)\n",
    "\n",
    "# Concatenando a coluna temperature ao DataFrame normalizado\n",
    "df_norm = pd.concat([df_norm, pd.Series(df['temperature']).reset_index(drop=True)], axis=1)\n",
    "\n",
    "# Mostrando o DataFrame normalizado com todas as features e o price\n",
    "df_norm.head(10)"
   ]
  },
  {
   "cell_type": "markdown",
   "id": "a2b5c33a-8ce0-415f-8962-61eb2c770e98",
   "metadata": {
    "jp-MarkdownHeadingCollapsed": true,
    "tags": []
   },
   "source": [
    "## Realizando o PCA"
   ]
  },
  {
   "cell_type": "code",
   "execution_count": 43,
   "id": "7372dda9-7224-49ae-83bb-36fff17ac451",
   "metadata": {},
   "outputs": [],
   "source": [
    "# Definindo o X como as features\n",
    "x = df_norm[features]\n",
    "# Definindo o Y como a temperatura (target)\n",
    "y = df_norm['temperature']\n",
    "\n",
    "# Calculo do PCA com 3 componentes\n",
    "pca = PCA(n_components=3)\n",
    "# Ajuste do PCA\n",
    "pca.fit(x)\n",
    "# Realização da transformação PCA\n",
    "x_pca = pca.transform(x)"
   ]
  },
  {
   "cell_type": "code",
   "execution_count": 44,
   "id": "5680a699-ce04-40e1-ac43-53561fbbf4ed",
   "metadata": {},
   "outputs": [
    {
     "name": "stdout",
     "output_type": "stream",
     "text": [
      "0.7391564806599186\n"
     ]
    }
   ],
   "source": [
    "# Calculandoa variância explicada para 3 componentes\n",
    "print(np.sum(pca.explained_variance_ratio_))"
   ]
  },
  {
   "cell_type": "code",
   "execution_count": 46,
   "id": "df581420-0e81-4192-bd0d-e06e010623a4",
   "metadata": {},
   "outputs": [
    {
     "data": {
      "image/png": "[encoded data removed]",
      "text/plain": [
       "<Figure size 432x288 with 1 Axes>"
      ]
     },
     "metadata": {
      "needs_background": "light"
     },
     "output_type": "display_data"
    }
   ],
   "source": [
    "# Mostrando a variança de cada número de componentes\n",
    "plot_components(x, y)"
   ]
  },
  {
   "cell_type": "markdown",
   "id": "117c8ba1-b302-4654-b2e0-d381cceba210",
   "metadata": {
    "jp-MarkdownHeadingCollapsed": true,
    "tags": []
   },
   "source": [
    "## Separando os dados em Treino e Teste"
   ]
  },
  {
   "cell_type": "code",
   "execution_count": 50,
   "id": "dc84cbeb-f24f-4e8a-b557-2b371dfb474c",
   "metadata": {},
   "outputs": [],
   "source": [
    "# Separação dos dados em x e y de treino e teste\n",
    "x_train, x_test, y_train, y_test = train_test_split(x_pca, y, test_size=2, random_state=subset_seed)"
   ]
  },
  {
   "cell_type": "markdown",
   "id": "9496c750-6656-432d-949d-d65781043397",
   "metadata": {
    "jp-MarkdownHeadingCollapsed": true,
    "tags": []
   },
   "source": [
    "## Criação de um DataFrame para facilitar a visualização e calcular a correlação"
   ]
  },
  {
   "cell_type": "code",
   "execution_count": 51,
   "id": "044833c0-3174-4ecd-9c03-3c8fb0eff47a",
   "metadata": {},
   "outputs": [
    {
     "name": "stdout",
     "output_type": "stream",
     "text": [
      "        PC1       PC2       PC3  temperature\n",
      "0  0.131237 -0.020890  0.118915            0\n",
      "1  0.130047 -0.022895  0.118677            0\n",
      "2  0.128841 -0.024928  0.118435            0\n",
      "3  0.127651 -0.026933  0.118197            0\n",
      "4  0.339151 -0.007259 -0.217759            5\n",
      "5  0.337961 -0.009264 -0.217997            5\n",
      "6  0.336755 -0.011297 -0.218239            5\n",
      "7  0.335565 -0.013302 -0.218477            5\n",
      "8  0.732716  0.010630 -0.467725            4\n",
      "9  0.731510  0.008597 -0.467967            4\n",
      "                PC1     PC2    PC3  temperature\n",
      "PC1          1.0000 -0.0000 -0.000      -0.3686\n",
      "PC2         -0.0000  1.0000  0.000       0.4154\n",
      "PC3         -0.0000  0.0000  1.000       0.2740\n",
      "temperature -0.3686  0.4154  0.274       1.0000\n"
     ]
    }
   ],
   "source": [
    "df_pca_train = pd.DataFrame(x_pca, columns=['PC1', 'PC2', 'PC3'])\n",
    "df_pca_train['temperature'] = y\n",
    "print(df_pca_train.head(10))\n",
    "corrmat = df_pca_train.corr()\n",
    "print(round(corrmat, 4))"
   ]
  },
  {
   "cell_type": "markdown",
   "id": "cf75b130-d3bf-431e-839e-2ee0b8089858",
   "metadata": {
    "tags": []
   },
   "source": [
    "## Finalmente a Regressão Linear"
   ]
  },
  {
   "cell_type": "code",
   "execution_count": 53,
   "id": "69a246e9-3c07-498a-8513-aaba62a446eb",
   "metadata": {},
   "outputs": [
    {
     "name": "stdout",
     "output_type": "stream",
     "text": [
      "O RMSE do modelo linear foi de 0.2866954794137484 graus.\n"
     ]
    },
    {
     "name": "stderr",
     "output_type": "stream",
     "text": [
      "c:\\venv\\ilumpy\\lib\\site-packages\\sklearn\\utils\\validation.py:63: FutureWarning: Arrays of bytes/strings is being converted to decimal numbers if dtype='numeric'. This behavior is deprecated in 0.24 and will be removed in 1.1 (renaming of 0.26). Please convert your data to numeric values explicitly instead.\n",
      "  return f(*args, **kwargs)\n"
     ]
    }
   ],
   "source": [
    "# Criando o modelo de regressão linear\n",
    "modelo_linear = LinearRegression()\n",
    "\n",
    "# Treinando o modelo\n",
    "modelo_linear.fit(x_train, y_train)\n",
    "\n",
    "# Utilizando o modelo para prever os daods\n",
    "y_previsao = modelo_linear.predict(x_test)\n",
    "\n",
    "# Calculo do RMSE do modelo\n",
    "RMSE = mean_squared_error(y_test, y_previsao, squared=False)\n",
    "\n",
    "# Mostrando o valor de RMSE\n",
    "print(f'O RMSE do modelo linear foi de {RMSE} graus.')"
   ]
  },
  {
   "cell_type": "markdown",
   "id": "0f9a1543-62ab-4e3f-b29e-984320357e78",
   "metadata": {},
   "source": [
    "## Random Forest"
   ]
  },
  {
   "cell_type": "code",
   "execution_count": 54,
   "id": "69a7b637-1a1a-48fb-b227-991620aa6f31",
   "metadata": {},
   "outputs": [
    {
     "name": "stdout",
     "output_type": "stream",
     "text": [
      "O RMSE do modelo de floresta aleatoria foi de 1.413523965131118 graus.\n"
     ]
    },
    {
     "name": "stderr",
     "output_type": "stream",
     "text": [
      "c:\\venv\\ilumpy\\lib\\site-packages\\sklearn\\utils\\validation.py:63: FutureWarning: Arrays of bytes/strings is being converted to decimal numbers if dtype='numeric'. This behavior is deprecated in 0.24 and will be removed in 1.1 (renaming of 0.26). Please convert your data to numeric values explicitly instead.\n",
      "  return f(*args, **kwargs)\n"
     ]
    }
   ],
   "source": [
    "# Criando o modelo de floresta aleatoria\n",
    "modelo_rf = RandomForestRegressor(random_state=subset_seed)\n",
    "\n",
    "# Treinando o modelo\n",
    "modelo_rf.fit(x_train, y_train)\n",
    "\n",
    "# Utilizando o modelo para prever os dados\n",
    "y_previsao = modelo_rf.predict(x_test)\n",
    "\n",
    "# Calculando o RMSE\n",
    "RMSE = mean_squared_error(y_test, y_previsao, squared=False)\n",
    "\n",
    "print(f'O RMSE do modelo de floresta aleatoria foi de {RMSE} graus.')"
   ]
  },
  {
   "cell_type": "code",
   "execution_count": null,
   "id": "f9b889a4-1305-4865-ac92-b1150ac62a67",
   "metadata": {},
   "outputs": [],
   "source": []
  }
 ],
 "metadata": {
  "kernelspec": {
   "display_name": "ilumpy",
   "language": "python",
   "name": "ilumpy"
  },
  "language_info": {
   "codemirror_mode": {
    "name": "ipython",
    "version": 3
   },
   "file_extension": ".py",
   "mimetype": "text/x-python",
   "name": "python",
   "nbconvert_exporter": "python",
   "pygments_lexer": "ipython3",
   "version": "3.9.7"
  }
 },
 "nbformat": 4,
 "nbformat_minor": 5
}
