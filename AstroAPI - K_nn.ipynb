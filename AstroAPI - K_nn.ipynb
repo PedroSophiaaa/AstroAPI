{
 "cells": [
  {
   "cell_type": "code",
   "execution_count": 1,
   "id": "6f5518aa-e3e6-4639-8277-2f09f7c75e16",
   "metadata": {},
   "outputs": [],
   "source": [
    "import numpy as np\n",
    "import pandas as pd\n",
    "from pandas.api.types import is_numeric_dtype\n",
    "from sklearn.dummy import DummyRegressor as DR\n",
    "from sklearn.neighbors import KNeighborsRegressor as KNR\n",
    "from sklearn.model_selection import train_test_split\n",
    "from sklearn.metrics import mean_squared_error"
   ]
  },
  {
   "cell_type": "code",
   "execution_count": 2,
   "id": "e13be32d-a4ef-4995-94e5-1576f82d999e",
   "metadata": {},
   "outputs": [],
   "source": [
    "def remove_not_numbers(df):\n",
    "    df_c = df.copy()\n",
    "    for i in df_c.columns:\n",
    "        if is_numeric_dtype(df_c[i]) == False or str(df_c[i].dtype) == 'boolean':\n",
    "            df_c = df_c.drop([i], axis=1)\n",
    "        else:\n",
    "            continue\n",
    "    return df_c"
   ]
  },
  {
   "cell_type": "code",
   "execution_count": 3,
   "id": "2c9e7805-90f3-427e-9d32-4aaf80bc257d",
   "metadata": {
    "tags": []
   },
   "outputs": [
    {
     "data": {
      "text/html": [
       "<div>\n",
       "<style scoped>\n",
       "    .dataframe tbody tr th:only-of-type {\n",
       "        vertical-align: middle;\n",
       "    }\n",
       "\n",
       "    .dataframe tbody tr th {\n",
       "        vertical-align: top;\n",
       "    }\n",
       "\n",
       "    .dataframe thead th {\n",
       "        text-align: right;\n",
       "    }\n",
       "</style>\n",
       "<table border=\"1\" class=\"dataframe\">\n",
       "  <thead>\n",
       "    <tr style=\"text-align: right;\">\n",
       "      <th></th>\n",
       "      <th>latitude</th>\n",
       "      <th>wind_speed</th>\n",
       "      <th>wind_degree</th>\n",
       "      <th>pressure</th>\n",
       "      <th>precip</th>\n",
       "      <th>humidity</th>\n",
       "      <th>cloudcover</th>\n",
       "      <th>uv_index</th>\n",
       "      <th>visibility</th>\n",
       "      <th>temperature</th>\n",
       "      <th>feelslike</th>\n",
       "    </tr>\n",
       "  </thead>\n",
       "  <tbody>\n",
       "    <tr>\n",
       "      <th>7</th>\n",
       "      <td>84.94</td>\n",
       "      <td>14</td>\n",
       "      <td>163</td>\n",
       "      <td>1022</td>\n",
       "      <td>0.0</td>\n",
       "      <td>80</td>\n",
       "      <td>5</td>\n",
       "      <td>1</td>\n",
       "      <td>10</td>\n",
       "      <td>0</td>\n",
       "      <td>-4</td>\n",
       "    </tr>\n",
       "    <tr>\n",
       "      <th>8</th>\n",
       "      <td>84.22</td>\n",
       "      <td>14</td>\n",
       "      <td>163</td>\n",
       "      <td>1022</td>\n",
       "      <td>0.0</td>\n",
       "      <td>80</td>\n",
       "      <td>5</td>\n",
       "      <td>1</td>\n",
       "      <td>10</td>\n",
       "      <td>0</td>\n",
       "      <td>-4</td>\n",
       "    </tr>\n",
       "    <tr>\n",
       "      <th>9</th>\n",
       "      <td>83.49</td>\n",
       "      <td>14</td>\n",
       "      <td>163</td>\n",
       "      <td>1022</td>\n",
       "      <td>0.0</td>\n",
       "      <td>80</td>\n",
       "      <td>5</td>\n",
       "      <td>1</td>\n",
       "      <td>10</td>\n",
       "      <td>0</td>\n",
       "      <td>-4</td>\n",
       "    </tr>\n",
       "    <tr>\n",
       "      <th>10</th>\n",
       "      <td>82.77</td>\n",
       "      <td>14</td>\n",
       "      <td>163</td>\n",
       "      <td>1022</td>\n",
       "      <td>0.0</td>\n",
       "      <td>80</td>\n",
       "      <td>5</td>\n",
       "      <td>1</td>\n",
       "      <td>10</td>\n",
       "      <td>0</td>\n",
       "      <td>-4</td>\n",
       "    </tr>\n",
       "    <tr>\n",
       "      <th>11</th>\n",
       "      <td>82.05</td>\n",
       "      <td>28</td>\n",
       "      <td>109</td>\n",
       "      <td>1013</td>\n",
       "      <td>0.0</td>\n",
       "      <td>80</td>\n",
       "      <td>37</td>\n",
       "      <td>1</td>\n",
       "      <td>10</td>\n",
       "      <td>5</td>\n",
       "      <td>1</td>\n",
       "    </tr>\n",
       "    <tr>\n",
       "      <th>...</th>\n",
       "      <td>...</td>\n",
       "      <td>...</td>\n",
       "      <td>...</td>\n",
       "      <td>...</td>\n",
       "      <td>...</td>\n",
       "      <td>...</td>\n",
       "      <td>...</td>\n",
       "      <td>...</td>\n",
       "      <td>...</td>\n",
       "      <td>...</td>\n",
       "      <td>...</td>\n",
       "    </tr>\n",
       "    <tr>\n",
       "      <th>224</th>\n",
       "      <td>-71.9</td>\n",
       "      <td>30</td>\n",
       "      <td>121</td>\n",
       "      <td>1002</td>\n",
       "      <td>0.0</td>\n",
       "      <td>60</td>\n",
       "      <td>46</td>\n",
       "      <td>1</td>\n",
       "      <td>10</td>\n",
       "      <td>-23</td>\n",
       "      <td>-36</td>\n",
       "    </tr>\n",
       "    <tr>\n",
       "      <th>225</th>\n",
       "      <td>-72.6</td>\n",
       "      <td>30</td>\n",
       "      <td>121</td>\n",
       "      <td>1002</td>\n",
       "      <td>0.0</td>\n",
       "      <td>60</td>\n",
       "      <td>46</td>\n",
       "      <td>1</td>\n",
       "      <td>10</td>\n",
       "      <td>-23</td>\n",
       "      <td>-36</td>\n",
       "    </tr>\n",
       "    <tr>\n",
       "      <th>226</th>\n",
       "      <td>-73.3</td>\n",
       "      <td>30</td>\n",
       "      <td>121</td>\n",
       "      <td>1002</td>\n",
       "      <td>0.0</td>\n",
       "      <td>60</td>\n",
       "      <td>46</td>\n",
       "      <td>1</td>\n",
       "      <td>10</td>\n",
       "      <td>-23</td>\n",
       "      <td>-36</td>\n",
       "    </tr>\n",
       "    <tr>\n",
       "      <th>227</th>\n",
       "      <td>-74.1</td>\n",
       "      <td>30</td>\n",
       "      <td>121</td>\n",
       "      <td>1002</td>\n",
       "      <td>0.0</td>\n",
       "      <td>60</td>\n",
       "      <td>46</td>\n",
       "      <td>1</td>\n",
       "      <td>10</td>\n",
       "      <td>-23</td>\n",
       "      <td>-36</td>\n",
       "    </tr>\n",
       "    <tr>\n",
       "      <th>228</th>\n",
       "      <td>-74.8</td>\n",
       "      <td>30</td>\n",
       "      <td>121</td>\n",
       "      <td>1002</td>\n",
       "      <td>0.0</td>\n",
       "      <td>60</td>\n",
       "      <td>46</td>\n",
       "      <td>1</td>\n",
       "      <td>10</td>\n",
       "      <td>-23</td>\n",
       "      <td>-36</td>\n",
       "    </tr>\n",
       "  </tbody>\n",
       "</table>\n",
       "<p>182 rows × 11 columns</p>\n",
       "</div>"
      ],
      "text/plain": [
       "     latitude  wind_speed  wind_degree  pressure  precip  humidity  \\\n",
       "7       84.94          14          163      1022     0.0        80   \n",
       "8       84.22          14          163      1022     0.0        80   \n",
       "9       83.49          14          163      1022     0.0        80   \n",
       "10      82.77          14          163      1022     0.0        80   \n",
       "11      82.05          28          109      1013     0.0        80   \n",
       "..        ...         ...          ...       ...     ...       ...   \n",
       "224     -71.9          30          121      1002     0.0        60   \n",
       "225     -72.6          30          121      1002     0.0        60   \n",
       "226     -73.3          30          121      1002     0.0        60   \n",
       "227     -74.1          30          121      1002     0.0        60   \n",
       "228     -74.8          30          121      1002     0.0        60   \n",
       "\n",
       "     cloudcover  uv_index  visibility  temperature  feelslike  \n",
       "7             5         1          10            0         -4  \n",
       "8             5         1          10            0         -4  \n",
       "9             5         1          10            0         -4  \n",
       "10            5         1          10            0         -4  \n",
       "11           37         1          10            5          1  \n",
       "..          ...       ...         ...          ...        ...  \n",
       "224          46         1          10          -23        -36  \n",
       "225          46         1          10          -23        -36  \n",
       "226          46         1          10          -23        -36  \n",
       "227          46         1          10          -23        -36  \n",
       "228          46         1          10          -23        -36  \n",
       "\n",
       "[182 rows x 11 columns]"
      ]
     },
     "execution_count": 3,
     "metadata": {},
     "output_type": "execute_result"
    }
   ],
   "source": [
    "df = pd.read_csv('Final Data.csv', index_col='Unnamed: 0')\n",
    "df = df.convert_dtypes()\n",
    "df = remove_not_numbers(df)\n",
    "df"
   ]
  },
  {
   "cell_type": "code",
   "execution_count": 4,
   "id": "d097c2b1-f292-498f-8041-848370e250aa",
   "metadata": {},
   "outputs": [],
   "source": [
    "subset_seed = 97404\n",
    "training_subset_size = 0.2\n",
    "\n",
    "features = ['latitude', 'wind_speed', 'wind_degree', 'pressure', 'precip', 'humidity', 'cloudcover', 'uv_index', 'visibility']\n",
    "\n",
    "indices = df.index\n",
    "indices_treino, indices_teste = train_test_split(indices, test_size=training_subset_size, random_state=subset_seed)\n",
    "\n",
    "df_treino = df.loc[indices_treino]\n",
    "df_teste = df.loc[indices_teste]\n",
    "\n",
    "x_treino = df_treino.reindex(features, axis=1).values\n",
    "y_treino_temperature = df_treino.reindex(['temperature'], axis=1).values\n",
    "y_treino_feelslike = df_treino.reindex(['feelslike'], axis=1).values\n",
    "x_teste = df_teste.reindex(features, axis=1).values\n",
    "y_teste_temperature = df_teste.reindex(['temperature'], axis=1).values\n",
    "y_teste_feelslike = df_teste.reindex(['feelslike'], axis=1).values"
   ]
  },
  {
   "cell_type": "code",
   "execution_count": 5,
   "id": "a6472702-d2b7-41a6-94c2-1ad1b3a7c8d3",
   "metadata": {},
   "outputs": [
    {
     "name": "stdout",
     "output_type": "stream",
     "text": [
      "[19.9862069 19.9862069 19.9862069 19.9862069 19.9862069 19.9862069\n",
      " 19.9862069 19.9862069 19.9862069 19.9862069 19.9862069 19.9862069\n",
      " 19.9862069 19.9862069 19.9862069 19.9862069 19.9862069 19.9862069\n",
      " 19.9862069 19.9862069 19.9862069 19.9862069 19.9862069 19.9862069\n",
      " 19.9862069 19.9862069 19.9862069 19.9862069 19.9862069 19.9862069\n",
      " 19.9862069 19.9862069 19.9862069 19.9862069 19.9862069 19.9862069\n",
      " 19.9862069]\n",
      "\n",
      "[19.06896552 19.06896552 19.06896552 19.06896552 19.06896552 19.06896552\n",
      " 19.06896552 19.06896552 19.06896552 19.06896552 19.06896552 19.06896552\n",
      " 19.06896552 19.06896552 19.06896552 19.06896552 19.06896552 19.06896552\n",
      " 19.06896552 19.06896552 19.06896552 19.06896552 19.06896552 19.06896552\n",
      " 19.06896552 19.06896552 19.06896552 19.06896552 19.06896552 19.06896552\n",
      " 19.06896552 19.06896552 19.06896552 19.06896552 19.06896552 19.06896552\n",
      " 19.06896552]\n"
     ]
    }
   ],
   "source": [
    "baseline_model_temperature = DR()\n",
    "baseline_model_feelslike = DR()\n",
    "\n",
    "baseline_model_temperature.fit(x_treino, y_treino_temperature)\n",
    "baseline_model_feelslike.fit(x_treino, y_treino_feelslike)\n",
    "\n",
    "baseline_predicts_temperature = baseline_model_temperature.predict(x_teste)\n",
    "baseline_predicts_feelslike = baseline_model_feelslike.predict(x_teste)\n",
    "\n",
    "print(baseline_predicts_temperature)\n",
    "print()\n",
    "print(baseline_predicts_feelslike)"
   ]
  },
  {
   "cell_type": "code",
   "execution_count": 6,
   "id": "fc893042-7ff9-4e16-aa38-d7a2c6f48c14",
   "metadata": {},
   "outputs": [
    {
     "name": "stdout",
     "output_type": "stream",
     "text": [
      "O RMSE do modelo k-NN para temperatura foi de 2.4119634258353853 graus.\n",
      "O RMSE do modelo k-NN para feelslike foi de 2.8640360861383543 graus.\n"
     ]
    }
   ],
   "source": [
    "n=2\n",
    "KN_model_temperature = KNR(n_neighbors=n)\n",
    "KN_model_feelslike = KNR(n_neighbors=n)\n",
    "\n",
    "KN_model_temperature.fit(x_treino, y_treino_temperature)\n",
    "KN_model_feelslike.fit(x_treino, y_treino_feelslike)\n",
    "\n",
    "KN_predicts_temperature = KN_model_temperature.predict(x_teste)\n",
    "KN_predicts_feelslike = KN_model_feelslike.predict(x_teste)\n",
    "\n",
    "y_verdadeiro_temperature = y_teste_temperature\n",
    "y_previsao_temperature = KN_model_temperature.predict(x_teste)\n",
    "RMSE_temperature = mean_squared_error(y_verdadeiro_temperature, y_previsao_temperature, squared=False)\n",
    "print(f\"O RMSE do modelo k-NN para temperatura foi de {RMSE_temperature} graus.\")\n",
    "\n",
    "y_verdadeiro_feelslike = y_teste_feelslike\n",
    "y_previsao_feelslike = KN_model_feelslike.predict(x_teste)\n",
    "RMSE_feelslike = mean_squared_error(y_verdadeiro_feelslike, y_previsao_feelslike, squared=False)\n",
    "print(f\"O RMSE do modelo k-NN para feelslike foi de {RMSE_feelslike} graus.\")"
   ]
  },
  {
   "cell_type": "code",
   "execution_count": 7,
   "id": "7410f0bf-3a4a-459b-aee2-a4d2549044a0",
   "metadata": {},
   "outputs": [
    {
     "name": "stdout",
     "output_type": "stream",
     "text": [
      "[[9.5 24.0 5.0 23.0 20.0 24.0 28.0 24.0 38.0 28.0 23.0 4.5 23.5 20.0 23.5\n",
      "  22.0 4.5 22.0 5.0 23.5 -23.0 22.0 23.5 38.0 -23.0 4.5 21.0 22.0 -23.0\n",
      "  22.5 27.0 26.5 26.5 30.0 23.5 22.0 20.5]] [[8.0 23.0 1.0 25.5 20.0 25.5 27.0 24.5 38.0 27.0 23.0 -1.0 23.0 20.0\n",
      "  24.5 23.0 -1.0 22.0 1.0 23.0 -36.0 22.0 24.5 38.0 -36.0 -1.0 21.0 22.0\n",
      "  -36.0 23.5 28.0 28.5 28.5 29.0 23.0 23.5 21.5]]\n"
     ]
    }
   ],
   "source": [
    "print(KN_predicts_temperature.T, KN_predicts_feelslike.T)"
   ]
  },
  {
   "cell_type": "code",
   "execution_count": 8,
   "id": "649e1793-e845-40a9-992d-c552ac2d39da",
   "metadata": {},
   "outputs": [],
   "source": [
    "def kn_plot(x_train, y_train, x_test, y_test, n=5):\n",
    "    import matplotlib.pyplot as plt\n",
    "    \n",
    "    result_RMSE = []\n",
    "    tests = [i for i in range(1, n)]\n",
    "    \n",
    "    for k in tests:\n",
    "        model = KNR(n_neighbors=k)\n",
    "        model.fit(x_train, y_train)\n",
    "        predicts = model.predict(x_test)\n",
    "        rmse = mean_squared_error(y_test, predicts, squared=False)\n",
    "        result_RMSE.append(rmse)\n",
    "    \n",
    "    plt.xlabel('Number of Neighbors')\n",
    "    plt.ylabel('Result for RMSE')\n",
    "    plt.plot(tests, result_RMSE)"
   ]
  },
  {
   "cell_type": "code",
   "execution_count": 9,
   "id": "fb6c61d6-0b66-4cdf-a7e7-b298e4e18d65",
   "metadata": {},
   "outputs": [
    {
     "data": {
      "image/png": "[encoded data removed]",
      "text/plain": [
       "<Figure size 432x288 with 1 Axes>"
      ]
     },
     "metadata": {
      "needs_background": "light"
     },
     "output_type": "display_data"
    }
   ],
   "source": [
    "kn_plot(x_treino, y_treino_temperature, x_teste, y_teste_temperature, n=145)"
   ]
  },
  {
   "cell_type": "code",
   "execution_count": 10,
   "id": "86d7bb18-6ad5-48c0-89ab-d2f1d41c63b9",
   "metadata": {},
   "outputs": [
    {
     "data": {
      "image/png": "[encoded data removed]",
      "text/plain": [
       "<Figure size 432x288 with 1 Axes>"
      ]
     },
     "metadata": {
      "needs_background": "light"
     },
     "output_type": "display_data"
    }
   ],
   "source": [
    "kn_plot(x_treino, y_treino_feelslike, x_teste, y_teste_feelslike, n=145)"
   ]
  },
  {
   "cell_type": "code",
   "execution_count": 11,
   "id": "fd6a10fa-7a1d-48c1-996a-6e019b93bc4b",
   "metadata": {},
   "outputs": [],
   "source": [
    "def kn_3dplot(x_train, y_train, x_test, y_test, n=5):\n",
    "    import matplotlib.pyplot as plt\n",
    "    \n",
    "    RMSEs = []\n",
    "    tests_type = ['uniform', 'distance']\n",
    "    tests_n = [i for i in range(1, n)]\n",
    "    \n",
    "    for type in tests_type:\n",
    "        aux = []\n",
    "        for k in tests_n:\n",
    "            model = KNR(n_neighbors=k, weights=type)\n",
    "            model.fit(x_train, y_train)\n",
    "            predicts = model.predict(x_test)\n",
    "            rmse = mean_squared_error(y_test, predicts, squared=False)\n",
    "            aux.append(rmse)\n",
    "        RMSEs.append(aux)\n",
    "    \n",
    "    plt.xlabel('Number of Neighbors')\n",
    "    plt.ylabel('Result for RMSE')\n",
    "    \n",
    "    print(tests_n)\n",
    "    print()\n",
    "    print(tests_type)\n",
    "    print()\n",
    "    print(RMSEs[0])\n",
    "    print()\n",
    "    print(RMSEs[1])\n",
    "    \n",
    "    fig = plt.figure()\n",
    "    ax = fig.add_subplot(projection='3d')\n",
    "    \n",
    "    ax.plot(tests_n, tests_type, RMSEs)"
   ]
  },
  {
   "cell_type": "code",
   "execution_count": 12,
   "id": "60a034b2-1a85-45da-9420-9e0f7cc6b374",
   "metadata": {},
   "outputs": [
    {
     "name": "stdout",
     "output_type": "stream",
     "text": [
      "[1, 2]\n",
      "\n",
      "['uniform', 'distance']\n",
      "\n",
      "[2.7558292027254874, 2.4119634258353853]\n",
      "\n",
      "[2.7558292027254874, 2.378443314043746]\n"
     ]
    },
    {
     "ename": "ValueError",
     "evalue": "input operand has more dimensions than allowed by the axis remapping",
     "output_type": "error",
     "traceback": [
      "\u001b[1;31m---------------------------------------------------------------------------\u001b[0m",
      "\u001b[1;31mValueError\u001b[0m                                Traceback (most recent call last)",
      "\u001b[1;32mC:\\Users\\JOAO22~1\\AppData\\Local\\Temp/ipykernel_12836/1268884639.py\u001b[0m in \u001b[0;36m<module>\u001b[1;34m\u001b[0m\n\u001b[1;32m----> 1\u001b[1;33m \u001b[0mkn_3dplot\u001b[0m\u001b[1;33m(\u001b[0m\u001b[0mx_treino\u001b[0m\u001b[1;33m,\u001b[0m \u001b[0my_treino_temperature\u001b[0m\u001b[1;33m,\u001b[0m \u001b[0mx_teste\u001b[0m\u001b[1;33m,\u001b[0m \u001b[0my_teste_temperature\u001b[0m\u001b[1;33m,\u001b[0m \u001b[0mn\u001b[0m\u001b[1;33m=\u001b[0m\u001b[1;36m3\u001b[0m\u001b[1;33m)\u001b[0m\u001b[1;33m\u001b[0m\u001b[1;33m\u001b[0m\u001b[0m\n\u001b[0m",
      "\u001b[1;32mC:\\Users\\JOAO22~1\\AppData\\Local\\Temp/ipykernel_12836/179566638.py\u001b[0m in \u001b[0;36mkn_3dplot\u001b[1;34m(x_train, y_train, x_test, y_test, n)\u001b[0m\n\u001b[0;32m     30\u001b[0m     \u001b[0max\u001b[0m \u001b[1;33m=\u001b[0m \u001b[0mfig\u001b[0m\u001b[1;33m.\u001b[0m\u001b[0madd_subplot\u001b[0m\u001b[1;33m(\u001b[0m\u001b[0mprojection\u001b[0m\u001b[1;33m=\u001b[0m\u001b[1;34m'3d'\u001b[0m\u001b[1;33m)\u001b[0m\u001b[1;33m\u001b[0m\u001b[1;33m\u001b[0m\u001b[0m\n\u001b[0;32m     31\u001b[0m \u001b[1;33m\u001b[0m\u001b[0m\n\u001b[1;32m---> 32\u001b[1;33m     \u001b[0max\u001b[0m\u001b[1;33m.\u001b[0m\u001b[0mplot\u001b[0m\u001b[1;33m(\u001b[0m\u001b[0mtests_n\u001b[0m\u001b[1;33m,\u001b[0m \u001b[0mtests_type\u001b[0m\u001b[1;33m,\u001b[0m \u001b[0mRMSEs\u001b[0m\u001b[1;33m)\u001b[0m\u001b[1;33m\u001b[0m\u001b[1;33m\u001b[0m\u001b[0m\n\u001b[0m",
      "\u001b[1;32mc:\\venv\\ilumpy\\lib\\site-packages\\mpl_toolkits\\mplot3d\\axes3d.py\u001b[0m in \u001b[0;36mplot\u001b[1;34m(self, xs, ys, zdir, *args, **kwargs)\u001b[0m\n\u001b[0;32m   1568\u001b[0m \u001b[1;33m\u001b[0m\u001b[0m\n\u001b[0;32m   1569\u001b[0m         \u001b[1;31m# Match length\u001b[0m\u001b[1;33m\u001b[0m\u001b[1;33m\u001b[0m\u001b[0m\n\u001b[1;32m-> 1570\u001b[1;33m         \u001b[0mzs\u001b[0m \u001b[1;33m=\u001b[0m \u001b[0mnp\u001b[0m\u001b[1;33m.\u001b[0m\u001b[0mbroadcast_to\u001b[0m\u001b[1;33m(\u001b[0m\u001b[0mzs\u001b[0m\u001b[1;33m,\u001b[0m \u001b[0mnp\u001b[0m\u001b[1;33m.\u001b[0m\u001b[0mshape\u001b[0m\u001b[1;33m(\u001b[0m\u001b[0mxs\u001b[0m\u001b[1;33m)\u001b[0m\u001b[1;33m)\u001b[0m\u001b[1;33m\u001b[0m\u001b[1;33m\u001b[0m\u001b[0m\n\u001b[0m\u001b[0;32m   1571\u001b[0m \u001b[1;33m\u001b[0m\u001b[0m\n\u001b[0;32m   1572\u001b[0m         \u001b[0mlines\u001b[0m \u001b[1;33m=\u001b[0m \u001b[0msuper\u001b[0m\u001b[1;33m(\u001b[0m\u001b[1;33m)\u001b[0m\u001b[1;33m.\u001b[0m\u001b[0mplot\u001b[0m\u001b[1;33m(\u001b[0m\u001b[0mxs\u001b[0m\u001b[1;33m,\u001b[0m \u001b[0mys\u001b[0m\u001b[1;33m,\u001b[0m \u001b[1;33m*\u001b[0m\u001b[0margs\u001b[0m\u001b[1;33m,\u001b[0m \u001b[1;33m**\u001b[0m\u001b[0mkwargs\u001b[0m\u001b[1;33m)\u001b[0m\u001b[1;33m\u001b[0m\u001b[1;33m\u001b[0m\u001b[0m\n",
      "\u001b[1;32m<__array_function__ internals>\u001b[0m in \u001b[0;36mbroadcast_to\u001b[1;34m(*args, **kwargs)\u001b[0m\n",
      "\u001b[1;32mc:\\venv\\ilumpy\\lib\\site-packages\\numpy\\lib\\stride_tricks.py\u001b[0m in \u001b[0;36mbroadcast_to\u001b[1;34m(array, shape, subok)\u001b[0m\n\u001b[0;32m    178\u001b[0m            [1, 2, 3]])\n\u001b[0;32m    179\u001b[0m     \"\"\"\n\u001b[1;32m--> 180\u001b[1;33m     \u001b[1;32mreturn\u001b[0m \u001b[0m_broadcast_to\u001b[0m\u001b[1;33m(\u001b[0m\u001b[0marray\u001b[0m\u001b[1;33m,\u001b[0m \u001b[0mshape\u001b[0m\u001b[1;33m,\u001b[0m \u001b[0msubok\u001b[0m\u001b[1;33m=\u001b[0m\u001b[0msubok\u001b[0m\u001b[1;33m,\u001b[0m \u001b[0mreadonly\u001b[0m\u001b[1;33m=\u001b[0m\u001b[1;32mTrue\u001b[0m\u001b[1;33m)\u001b[0m\u001b[1;33m\u001b[0m\u001b[1;33m\u001b[0m\u001b[0m\n\u001b[0m\u001b[0;32m    181\u001b[0m \u001b[1;33m\u001b[0m\u001b[0m\n\u001b[0;32m    182\u001b[0m \u001b[1;33m\u001b[0m\u001b[0m\n",
      "\u001b[1;32mc:\\venv\\ilumpy\\lib\\site-packages\\numpy\\lib\\stride_tricks.py\u001b[0m in \u001b[0;36m_broadcast_to\u001b[1;34m(array, shape, subok, readonly)\u001b[0m\n\u001b[0;32m    121\u001b[0m                          'negative')\n\u001b[0;32m    122\u001b[0m     \u001b[0mextras\u001b[0m \u001b[1;33m=\u001b[0m \u001b[1;33m[\u001b[0m\u001b[1;33m]\u001b[0m\u001b[1;33m\u001b[0m\u001b[1;33m\u001b[0m\u001b[0m\n\u001b[1;32m--> 123\u001b[1;33m     it = np.nditer(\n\u001b[0m\u001b[0;32m    124\u001b[0m         \u001b[1;33m(\u001b[0m\u001b[0marray\u001b[0m\u001b[1;33m,\u001b[0m\u001b[1;33m)\u001b[0m\u001b[1;33m,\u001b[0m \u001b[0mflags\u001b[0m\u001b[1;33m=\u001b[0m\u001b[1;33m[\u001b[0m\u001b[1;34m'multi_index'\u001b[0m\u001b[1;33m,\u001b[0m \u001b[1;34m'refs_ok'\u001b[0m\u001b[1;33m,\u001b[0m \u001b[1;34m'zerosize_ok'\u001b[0m\u001b[1;33m]\u001b[0m \u001b[1;33m+\u001b[0m \u001b[0mextras\u001b[0m\u001b[1;33m,\u001b[0m\u001b[1;33m\u001b[0m\u001b[1;33m\u001b[0m\u001b[0m\n\u001b[0;32m    125\u001b[0m         op_flags=['readonly'], itershape=shape, order='C')\n",
      "\u001b[1;31mValueError\u001b[0m: input operand has more dimensions than allowed by the axis remapping"
     ]
    },
    {
     "data": {
      "image/png": "[encoded data removed]",
      "text/plain": [
       "<Figure size 432x288 with 1 Axes>"
      ]
     },
     "metadata": {
      "needs_background": "light"
     },
     "output_type": "display_data"
    },
    {
     "data": {
      "image/png": "[encoded data removed]",
      "text/plain": [
       "<Figure size 432x288 with 1 Axes>"
      ]
     },
     "metadata": {
      "needs_background": "light"
     },
     "output_type": "display_data"
    }
   ],
   "source": [
    "kn_3dplot(x_treino, y_treino_temperature, x_teste, y_teste_temperature, n=3)"
   ]
  },
  {
   "cell_type": "code",
   "execution_count": null,
   "id": "2a8915a0-23a0-4815-a6e3-1ba55aad8503",
   "metadata": {},
   "outputs": [],
   "source": []
  },
  {
   "cell_type": "code",
   "execution_count": null,
   "id": "8a352e25-263a-4cc9-8ac6-64ec6b92000d",
   "metadata": {},
   "outputs": [],
   "source": []
  }
 ],
 "metadata": {
  "kernelspec": {
   "display_name": "ilumpy",
   "language": "python",
   "name": "ilumpy"
  },
  "language_info": {
   "codemirror_mode": {
    "name": "ipython",
    "version": 3
   },
   "file_extension": ".py",
   "mimetype": "text/x-python",
   "name": "python",
   "nbconvert_exporter": "python",
   "pygments_lexer": "ipython3",
   "version": "3.9.7"
  }
 },
 "nbformat": 4,
 "nbformat_minor": 5
}
